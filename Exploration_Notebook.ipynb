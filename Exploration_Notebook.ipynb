{
 "cells": [
  {
   "cell_type": "code",
   "execution_count": 1,
   "id": "fe71d5dc-7fbd-415d-8e91-c430e6a87e7e",
   "metadata": {},
   "outputs": [
    {
     "name": "stdout",
     "output_type": "stream",
     "text": [
      "TensorFlow version: 2.7.0\n"
     ]
    }
   ],
   "source": [
    "import tensorflow as tf\n",
    "print(\"TensorFlow version:\", tf.__version__)"
   ]
  },
  {
   "cell_type": "markdown",
   "id": "a6774c2d-f2f8-4caa-8ea1-e50653b28e44",
   "metadata": {},
   "source": [
    "[tf.keras.utils.text_dataset_from_directory](https://www.tensorflow.org/api_docs/python/tf/keras/utils/text_dataset_from_directory)\n",
    "\n",
    "Facts:\n",
    "- The details about this data can be found under the /data_definitions directory.\n",
    "- The labels of Septic or not are generated from the directory structure under /data. \n",
    "- This is a binary classifier, so there are only 2 labels (not-septic or septic). \n",
    "- The binary value of 0 or 1 is generate from the alphabetical order of the files.\n",
    "- This is a batch dataset set to 32 by default.\n",
    "- This data is shuffled during the load.\n",
    "- The random seed is set to 42 for reproducible of the same results.\n",
    "- 20% of the data is set aside for validation."
   ]
  },
  {
   "cell_type": "code",
   "execution_count": 43,
   "id": "f164286f-5826-4d18-a79e-6feda2fc31cb",
   "metadata": {},
   "outputs": [
    {
     "name": "stdout",
     "output_type": "stream",
     "text": [
      "shell-init: error retrieving current directory: getcwd: cannot access parent directories: No such file or directory\n",
      "rm: cannot remove 'data/.ipynb_checkpoints*': No such file or directory\n",
      "shell-init: error retrieving current directory: getcwd: cannot access parent directories: No such file or directory\n",
      "rm: cannot remove 'data/negative/.ipynb_checkpoints*': No such file or directory\n",
      "rm: cannot remove 'data/positive/.ipynb_checkpoints*': No such file or directory\n"
     ]
    }
   ],
   "source": [
    "!rm -r data/.ipynb_checkpoints*\n",
    "!rm -r data/{negative,positive}/.ipynb_checkpoints*"
   ]
  },
  {
   "cell_type": "code",
   "execution_count": 55,
   "id": "3b95a6d9-165e-40c4-91bf-e6b0dda8e771",
   "metadata": {},
   "outputs": [
    {
     "ename": "FileNotFoundError",
     "evalue": "[Errno 2] No such file or directory: 'data'",
     "output_type": "error",
     "traceback": [
      "\u001b[0;31m---------------------------------------------------------------------------\u001b[0m",
      "\u001b[0;31mFileNotFoundError\u001b[0m                         Traceback (most recent call last)",
      "Input \u001b[0;32mIn [55]\u001b[0m, in \u001b[0;36m<module>\u001b[0;34m\u001b[0m\n\u001b[0;32m----> 1\u001b[0m train_ds \u001b[38;5;241m=\u001b[39m \u001b[48;5;17mtf\u001b[49m\u001b[38;5;241;48;5;17m.\u001b[39;49m\u001b[48;5;17mkeras\u001b[49m\u001b[38;5;241;48;5;17m.\u001b[39;49m\u001b[48;5;17mutils\u001b[49m\u001b[38;5;241;48;5;17m.\u001b[39;49m\u001b[48;5;17mtext_dataset_from_directory\u001b[49m\u001b[48;5;17m(\u001b[49m\n\u001b[1;32m      2\u001b[0m \u001b[48;5;17m    \u001b[49m\u001b[38;5;124;48;5;17m'\u001b[39;49m\u001b[38;5;124;48;5;17mdata\u001b[39;49m\u001b[38;5;124;48;5;17m'\u001b[39;49m\n\u001b[1;32m      3\u001b[0m \u001b[48;5;17m)\u001b[49m\n",
      "File \u001b[0;32m/opt/app-root/lib64/python3.8/site-packages/keras/preprocessing/text_dataset.py:140\u001b[0m, in \u001b[0;36mtext_dataset_from_directory\u001b[0;34m(directory, labels, label_mode, class_names, batch_size, max_length, shuffle, seed, validation_split, subset, follow_links)\u001b[0m\n\u001b[1;32m    138\u001b[0m \u001b[38;5;28;01mif\u001b[39;00m seed \u001b[38;5;129;01mis\u001b[39;00m \u001b[38;5;28;01mNone\u001b[39;00m:\n\u001b[1;32m    139\u001b[0m   seed \u001b[38;5;241m=\u001b[39m np\u001b[38;5;241m.\u001b[39mrandom\u001b[38;5;241m.\u001b[39mrandint(\u001b[38;5;241m1e6\u001b[39m)\n\u001b[0;32m--> 140\u001b[0m file_paths, labels, class_names \u001b[38;5;241m=\u001b[39m \u001b[48;5;17mdataset_utils\u001b[49m\u001b[38;5;241;48;5;17m.\u001b[39;49m\u001b[48;5;17mindex_directory\u001b[49m\u001b[48;5;17m(\u001b[49m\n\u001b[1;32m    141\u001b[0m \u001b[48;5;17m    \u001b[49m\u001b[48;5;17mdirectory\u001b[49m\u001b[48;5;17m,\u001b[49m\n\u001b[1;32m    142\u001b[0m \u001b[48;5;17m    \u001b[49m\u001b[48;5;17mlabels\u001b[49m\u001b[48;5;17m,\u001b[49m\n\u001b[1;32m    143\u001b[0m \u001b[48;5;17m    \u001b[49m\u001b[48;5;17mformats\u001b[49m\u001b[38;5;241;48;5;17m=\u001b[39;49m\u001b[48;5;17m(\u001b[49m\u001b[38;5;124;48;5;17m'\u001b[39;49m\u001b[38;5;124;48;5;17m.txt\u001b[39;49m\u001b[38;5;124;48;5;17m'\u001b[39;49m\u001b[48;5;17m,\u001b[49m\u001b[48;5;17m)\u001b[49m\u001b[48;5;17m,\u001b[49m\n\u001b[1;32m    144\u001b[0m \u001b[48;5;17m    \u001b[49m\u001b[48;5;17mclass_names\u001b[49m\u001b[38;5;241;48;5;17m=\u001b[39;49m\u001b[48;5;17mclass_names\u001b[49m\u001b[48;5;17m,\u001b[49m\n\u001b[1;32m    145\u001b[0m \u001b[48;5;17m    \u001b[49m\u001b[48;5;17mshuffle\u001b[49m\u001b[38;5;241;48;5;17m=\u001b[39;49m\u001b[48;5;17mshuffle\u001b[49m\u001b[48;5;17m,\u001b[49m\n\u001b[1;32m    146\u001b[0m \u001b[48;5;17m    \u001b[49m\u001b[48;5;17mseed\u001b[49m\u001b[38;5;241;48;5;17m=\u001b[39;49m\u001b[48;5;17mseed\u001b[49m\u001b[48;5;17m,\u001b[49m\n\u001b[1;32m    147\u001b[0m \u001b[48;5;17m    \u001b[49m\u001b[48;5;17mfollow_links\u001b[49m\u001b[38;5;241;48;5;17m=\u001b[39;49m\u001b[48;5;17mfollow_links\u001b[49m\u001b[48;5;17m)\u001b[49m\n\u001b[1;32m    149\u001b[0m \u001b[38;5;28;01mif\u001b[39;00m label_mode \u001b[38;5;241m==\u001b[39m \u001b[38;5;124m'\u001b[39m\u001b[38;5;124mbinary\u001b[39m\u001b[38;5;124m'\u001b[39m \u001b[38;5;129;01mand\u001b[39;00m \u001b[38;5;28mlen\u001b[39m(class_names) \u001b[38;5;241m!=\u001b[39m \u001b[38;5;241m2\u001b[39m:\n\u001b[1;32m    150\u001b[0m   \u001b[38;5;28;01mraise\u001b[39;00m \u001b[38;5;167;01mValueError\u001b[39;00m(\n\u001b[1;32m    151\u001b[0m       \u001b[38;5;124mf\u001b[39m\u001b[38;5;124m'\u001b[39m\u001b[38;5;124mWhen passing `label_mode=\u001b[39m\u001b[38;5;124m\"\u001b[39m\u001b[38;5;124mbinary\u001b[39m\u001b[38;5;124m\"\u001b[39m\u001b[38;5;124m`, there must be exactly 2 \u001b[39m\u001b[38;5;124m'\u001b[39m\n\u001b[1;32m    152\u001b[0m       \u001b[38;5;124mf\u001b[39m\u001b[38;5;124m'\u001b[39m\u001b[38;5;124mclass_names. Received: class_names=\u001b[39m\u001b[38;5;132;01m{\u001b[39;00mclass_names\u001b[38;5;132;01m}\u001b[39;00m\u001b[38;5;124m'\u001b[39m)\n",
      "File \u001b[0;32m/opt/app-root/lib64/python3.8/site-packages/keras/preprocessing/dataset_utils.py:66\u001b[0m, in \u001b[0;36mindex_directory\u001b[0;34m(directory, labels, formats, class_names, shuffle, seed, follow_links)\u001b[0m\n\u001b[1;32m     64\u001b[0m \u001b[38;5;28;01melse\u001b[39;00m:\n\u001b[1;32m     65\u001b[0m   subdirs \u001b[38;5;241m=\u001b[39m []\n\u001b[0;32m---> 66\u001b[0m   \u001b[38;5;28;01mfor\u001b[39;00m subdir \u001b[38;5;129;01min\u001b[39;00m \u001b[38;5;28msorted\u001b[39m(\u001b[48;5;17mos\u001b[49m\u001b[38;5;241;48;5;17m.\u001b[39;49m\u001b[48;5;17mlistdir\u001b[49m\u001b[48;5;17m(\u001b[49m\u001b[48;5;17mdirectory\u001b[49m\u001b[48;5;17m)\u001b[49m):\n\u001b[1;32m     67\u001b[0m     \u001b[38;5;28;01mif\u001b[39;00m os\u001b[38;5;241m.\u001b[39mpath\u001b[38;5;241m.\u001b[39misdir(os\u001b[38;5;241m.\u001b[39mpath\u001b[38;5;241m.\u001b[39mjoin(directory, subdir)):\n\u001b[1;32m     68\u001b[0m       subdirs\u001b[38;5;241m.\u001b[39mappend(subdir)\n",
      "\u001b[0;31mFileNotFoundError\u001b[0m: [Errno 2] No such file or directory: 'data'"
     ]
    }
   ],
   "source": [
    "train_ds = tf.keras.utils.text_dataset_from_directory(\n",
    "    'data'\n",
    ")"
   ]
  },
  {
   "cell_type": "code",
   "execution_count": null,
   "id": "ae8cf6cd-c079-4f58-a2c2-7a537e9d388e",
   "metadata": {},
   "outputs": [
    {
     "name": "stdout",
     "output_type": "stream",
     "text": [
      "/opt/app-root/src/model-version-tfserve-podman/notebooks\n"
     ]
    }
   ],
   "source": []
  }
 ],
 "metadata": {
  "kernelspec": {
   "display_name": "Python 3 (ipykernel)",
   "language": "python",
   "name": "python3"
  },
  "language_info": {
   "codemirror_mode": {
    "name": "ipython",
    "version": 3
   },
   "file_extension": ".py",
   "mimetype": "text/x-python",
   "name": "python",
   "nbconvert_exporter": "python",
   "pygments_lexer": "ipython3",
   "version": "3.8.8"
  }
 },
 "nbformat": 4,
 "nbformat_minor": 5
}
